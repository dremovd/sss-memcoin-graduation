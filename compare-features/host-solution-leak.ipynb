{
 "cells": [
  {
   "cell_type": "code",
   "execution_count": 1,
   "id": "9b797b4a",
   "metadata": {
    "papermill": {
     "duration": 0.012834,
     "end_time": "2025-04-15T12:01:21.669018",
     "exception": false,
     "start_time": "2025-04-15T12:01:21.656184",
     "status": "completed"
    },
    "tags": []
   },
   "outputs": [],
   "source": [
    "DIR = '../data/pump-fun-graduation-february-2025'"
   ]
  },
  {
   "cell_type": "code",
   "execution_count": 2,
   "id": "5d9a2271",
   "metadata": {
    "papermill": {
     "duration": 0.009548,
     "end_time": "2025-04-15T12:01:21.684260",
     "exception": false,
     "start_time": "2025-04-15T12:01:21.674712",
     "status": "completed"
    },
    "tags": []
   },
   "outputs": [],
   "source": [
    "IS_DEBUG = False"
   ]
  },
  {
   "cell_type": "code",
   "execution_count": 3,
   "id": "098f5dc6",
   "metadata": {
    "papermill": {
     "duration": 0.135075,
     "end_time": "2025-04-15T12:01:21.824881",
     "exception": false,
     "start_time": "2025-04-15T12:01:21.689806",
     "status": "completed"
    },
    "tags": []
   },
   "outputs": [
    {
     "name": "stdout",
     "output_type": "stream",
     "text": [
      "chunk_1.csv   chunk_20.csv  chunk_31.csv  chunk_5.csv\n",
      "chunk_10.csv  chunk_21.csv  chunk_32.csv  chunk_6.csv\n",
      "chunk_11.csv  chunk_22.csv  chunk_33.csv  chunk_7.csv\n",
      "chunk_12.csv  chunk_23.csv  chunk_34.csv  chunk_8.csv\n",
      "chunk_13.csv  chunk_24.csv  chunk_35.csv  chunk_9.csv\n",
      "chunk_14.csv  chunk_25.csv  chunk_36.csv  dune_token_info.csv\n",
      "chunk_15.csv  chunk_26.csv  chunk_37.csv  dune_token_info_v2.csv\n",
      "chunk_16.csv  chunk_27.csv  chunk_38.csv  pump-fun-graduation-february-2025.zip\n",
      "chunk_17.csv  chunk_28.csv  chunk_39.csv  test_unlabeled.csv\n",
      "chunk_18.csv  chunk_29.csv  chunk_4.csv   token_info_onchain_divers.csv\n",
      "chunk_19.csv  chunk_3.csv   chunk_40.csv  token_info_onchain_divers_v2.csv\n",
      "chunk_2.csv   chunk_30.csv  chunk_41.csv  train.csv\n"
     ]
    }
   ],
   "source": [
    "!ls {DIR}"
   ]
  },
  {
   "cell_type": "code",
   "execution_count": 4,
   "id": "efa871e7",
   "metadata": {
    "papermill": {
     "duration": 2.773286,
     "end_time": "2025-04-15T12:01:24.603887",
     "exception": false,
     "start_time": "2025-04-15T12:01:21.830601",
     "status": "completed"
    },
    "tags": []
   },
   "outputs": [],
   "source": [
    "import pandas as pd\n",
    "import os\n",
    "import catboost"
   ]
  },
  {
   "cell_type": "code",
   "execution_count": 5,
   "id": "a7634de3",
   "metadata": {
    "papermill": {
     "duration": 1.340934,
     "end_time": "2025-04-15T12:01:25.955819",
     "exception": false,
     "start_time": "2025-04-15T12:01:24.614885",
     "status": "completed"
    },
    "tags": []
   },
   "outputs": [
    {
     "data": {
      "text/plain": [
       "(639557, 6)"
      ]
     },
     "execution_count": 5,
     "metadata": {},
     "output_type": "execute_result"
    }
   ],
   "source": [
    "train = pd.read_csv(os.path.join(DIR, 'train.csv'))\n",
    "\n",
    "train.shape"
   ]
  },
  {
   "cell_type": "code",
   "execution_count": 6,
   "id": "cf81894b",
   "metadata": {
    "papermill": {
     "duration": 0.012523,
     "end_time": "2025-04-15T12:01:25.974821",
     "exception": false,
     "start_time": "2025-04-15T12:01:25.962298",
     "status": "completed"
    },
    "tags": []
   },
   "outputs": [
    {
     "data": {
      "text/plain": [
       "Index(['Unnamed: 0', 'mint', 'slot_min', 'slot_graduated', 'has_graduated',\n",
       "       'is_valid'],\n",
       "      dtype='object')"
      ]
     },
     "execution_count": 6,
     "metadata": {},
     "output_type": "execute_result"
    }
   ],
   "source": [
    "train.columns"
   ]
  },
  {
   "cell_type": "code",
   "execution_count": 7,
   "id": "777cb9e1",
   "metadata": {
    "papermill": {
     "duration": 0.073088,
     "end_time": "2025-04-15T12:01:26.053821",
     "exception": false,
     "start_time": "2025-04-15T12:01:25.980733",
     "status": "completed"
    },
    "tags": []
   },
   "outputs": [],
   "source": [
    "filenames = !ls {DIR}/chunk*.csv"
   ]
  },
  {
   "cell_type": "code",
   "execution_count": 8,
   "id": "fd83f442",
   "metadata": {
    "papermill": {
     "duration": 129.82183,
     "end_time": "2025-04-15T12:03:35.881627",
     "exception": false,
     "start_time": "2025-04-15T12:01:26.059797",
     "status": "completed"
    },
    "tags": []
   },
   "outputs": [
    {
     "data": {
      "application/vnd.jupyter.widget-view+json": {
       "model_id": "9f53df82efa541018c0686f24ad88ec8",
       "version_major": 2,
       "version_minor": 0
      },
      "text/plain": [
       "  0%|          | 0/41 [00:00<?, ?it/s]"
      ]
     },
     "metadata": {},
     "output_type": "display_data"
    },
    {
     "name": "stdout",
     "output_type": "stream",
     "text": [
      "<class 'pandas.core.frame.DataFrame'>\n",
      "Index: 17033442 entries, 0 to 430066\n",
      "Data columns (total 15 columns):\n",
      " #   Column                       Dtype \n",
      "---  ------                       ----- \n",
      " 0   block_time                   object\n",
      " 1   slot                         int64 \n",
      " 2   tx_idx                       int64 \n",
      " 3   signing_wallet               object\n",
      " 4   direction                    object\n",
      " 5   base_coin                    object\n",
      " 6   base_coin_amount             int64 \n",
      " 7   quote_coin_amount            int64 \n",
      " 8   virtual_token_balance_after  int64 \n",
      " 9   virtual_sol_balance_after    int64 \n",
      " 10  signature                    object\n",
      " 11  provided_gas_fee             int64 \n",
      " 12  provided_gas_limit           int64 \n",
      " 13  fee                          int64 \n",
      " 14  consumed_gas                 int64 \n",
      "dtypes: int64(10), object(5)\n",
      "memory usage: 2.0+ GB\n"
     ]
    }
   ],
   "source": [
    "from tqdm.auto import tqdm\n",
    "\n",
    "def generate_features(filenames):\n",
    "    all_data = []\n",
    "    for chunk_filename in tqdm(filenames):\n",
    "        all_data.append(\n",
    "            pd.read_csv(chunk_filename)\n",
    "        )\n",
    "    data = pd.concat(all_data)\n",
    "    data.info()\n",
    "    features = data.groupby('base_coin').agg({\n",
    "        'quote_coin_amount': ['sum', 'min', 'max', 'count', 'last', 'first', 'median', 'std'], \n",
    "        'virtual_sol_balance_after': ['sum', 'min', 'max', 'last', 'first', 'median', 'std'],\n",
    "        'base_coin_amount': ['sum', 'min', 'max', 'last', 'first', 'median', 'std', 'mean'],\n",
    "        'provided_gas_fee': ['sum', 'min', 'max', 'last', 'first', 'median', 'std', 'mean'],\n",
    "        'provided_gas_limit': ['sum', 'min', 'max', 'last', 'first', 'median', 'std', 'mean'],\n",
    "        'fee': ['sum', 'min', 'max', 'last', 'first', 'median', 'std', 'mean'],\n",
    "        'consumed_gas': ['sum', 'min', 'max', 'last', 'first', 'median', 'std', 'mean'],\n",
    "        'direction': ['last',],\n",
    "        'slot': ['min', 'max', 'median', 'mean']\n",
    "    })\n",
    "    features.columns = ['_'.join(f) for f in features.columns]\n",
    "    features['slot_max_offset'] = features['slot_max'] - features['slot_min']\n",
    "    features['slot_mean_offset'] = features['slot_mean'] - features['slot_min']\n",
    "    features['slot_median_offset'] = features['slot_median'] - features['slot_min']\n",
    "    features = features.drop(columns=['slot_min', 'slot_max', 'slot_median', 'slot_mean'])\n",
    "    \n",
    "    return features\n",
    "\n",
    "if IS_DEBUG:\n",
    "    filenames = filenames[:2]+filenames[-2:]\n",
    "features = generate_features(filenames)"
   ]
  },
  {
   "cell_type": "code",
   "execution_count": 9,
   "id": "6e1314d5",
   "metadata": {
    "papermill": {
     "duration": 0.011765,
     "end_time": "2025-04-15T12:03:35.900127",
     "exception": false,
     "start_time": "2025-04-15T12:03:35.888362",
     "status": "completed"
    },
    "tags": []
   },
   "outputs": [],
   "source": [
    "feature_names = list(features.columns)"
   ]
  },
  {
   "cell_type": "code",
   "execution_count": 10,
   "id": "f8e3fdf9",
   "metadata": {
    "papermill": {
     "duration": 1.503445,
     "end_time": "2025-04-15T12:03:37.409586",
     "exception": false,
     "start_time": "2025-04-15T12:03:35.906141",
     "status": "completed"
    },
    "tags": []
   },
   "outputs": [],
   "source": [
    "Xy = train[['mint', 'has_graduated']].merge(features, left_on='mint', right_on='base_coin', how='left')"
   ]
  },
  {
   "cell_type": "code",
   "execution_count": 11,
   "id": "3f248ff1",
   "metadata": {
    "papermill": {
     "duration": 17.108995,
     "end_time": "2025-04-15T12:03:54.525000",
     "exception": false,
     "start_time": "2025-04-15T12:03:37.416005",
     "status": "completed"
    },
    "tags": []
   },
   "outputs": [],
   "source": [
    "onchain_divers = pd.read_csv(os.path.join(DIR, 'token_info_onchain_divers_v2.csv'))"
   ]
  },
  {
   "cell_type": "code",
   "execution_count": 12,
   "id": "b8f8f67e",
   "metadata": {
    "papermill": {
     "duration": 0.01258,
     "end_time": "2025-04-15T12:03:54.544985",
     "exception": false,
     "start_time": "2025-04-15T12:03:54.532405",
     "status": "completed"
    },
    "tags": []
   },
   "outputs": [
    {
     "data": {
      "text/plain": [
       "Index(['block_time', 'slot', 'tx_idx', 'creator', 'name', 'symbol', 'url',\n",
       "       'mint', 'bundle_size', 'gas_used', 'amount_of_instructions',\n",
       "       'amount_of_lookup_reads', 'amount_of_lookup_writes', 'bundle_structure',\n",
       "       'bundled_buys', 'bundled_buys_count', 'dev_balance',\n",
       "       'creation_ix_index', 'curve_address', 'pf_program_index',\n",
       "       'direct_pf_invocation', 'version'],\n",
       "      dtype='object')"
      ]
     },
     "execution_count": 12,
     "metadata": {},
     "output_type": "execute_result"
    }
   ],
   "source": [
    "onchain_divers.columns"
   ]
  },
  {
   "cell_type": "code",
   "execution_count": 13,
   "id": "931e1024",
   "metadata": {
    "papermill": {
     "duration": 0.444983,
     "end_time": "2025-04-15T12:03:54.997172",
     "exception": false,
     "start_time": "2025-04-15T12:03:54.552189",
     "status": "completed"
    },
    "tags": []
   },
   "outputs": [],
   "source": [
    "onchain_divers = onchain_divers.drop_duplicates(subset=['mint'])"
   ]
  },
  {
   "cell_type": "code",
   "execution_count": 14,
   "id": "59c31a82-5c93-4616-a90c-89d88ac36262",
   "metadata": {},
   "outputs": [],
   "source": [
    "for c in ['name', 'creator']:\n",
    "    onchain_divers[c] = onchain_divers[c].str.lower()"
   ]
  },
  {
   "cell_type": "code",
   "execution_count": 15,
   "id": "78718446-6b0c-43fe-996d-730ef672dbf0",
   "metadata": {},
   "outputs": [],
   "source": [
    "name_count = onchain_divers['name'].value_counts()\n",
    "creator_count = onchain_divers['creator'].value_counts()"
   ]
  },
  {
   "cell_type": "code",
   "execution_count": 16,
   "id": "fc84d144-9a94-41f8-9a0b-2938239bfc89",
   "metadata": {},
   "outputs": [],
   "source": [
    "name_count_train = onchain_divers.loc[onchain_divers['mint'].isin(train.mint), 'name'].value_counts()\n",
    "creator_count_train = onchain_divers.loc[onchain_divers['mint'].isin(train.mint), 'creator'].value_counts()"
   ]
  },
  {
   "cell_type": "markdown",
   "id": "53460d62-ca28-4baf-a81f-4767fab58789",
   "metadata": {},
   "source": [
    "## Introducing two similar feature groups (one with a leak)\n",
    "\n",
    "`duplicate_count` has leak\n",
    "\n",
    "`train_duplicate_count` only uses train and therefore has no leak"
   ]
  },
  {
   "cell_type": "code",
   "execution_count": 17,
   "id": "e8bf5dec-500e-4197-9a40-440a270f9fd9",
   "metadata": {},
   "outputs": [],
   "source": [
    "name_count.name = 'name_duplicate_count'\n",
    "creator_count.name = 'creator_duplicate_count'"
   ]
  },
  {
   "cell_type": "code",
   "execution_count": 18,
   "id": "f3b4062e-e995-41c2-a873-bd2c92b9febe",
   "metadata": {},
   "outputs": [],
   "source": [
    "name_count_train.name = 'name_train_duplicate_count'\n",
    "creator_count_train.name = 'creator_train_duplicate_count'"
   ]
  },
  {
   "cell_type": "code",
   "execution_count": 19,
   "id": "1c097804-056a-4294-a550-c6702da32134",
   "metadata": {},
   "outputs": [],
   "source": [
    "onchain_divers = onchain_divers.merge(name_count, on='name', how='left')\n",
    "onchain_divers = onchain_divers.merge(creator_count, on='creator', how='left')"
   ]
  },
  {
   "cell_type": "code",
   "execution_count": 20,
   "id": "03c4e376-408f-4cd2-b607-620aff7824a6",
   "metadata": {},
   "outputs": [],
   "source": [
    "onchain_divers = onchain_divers.merge(name_count_train, on='name', how='left')\n",
    "onchain_divers = onchain_divers.merge(creator_count_train, on='creator', how='left')"
   ]
  },
  {
   "cell_type": "code",
   "execution_count": null,
   "id": "e0167faa-ead5-4026-8b06-a6e1e6b59ade",
   "metadata": {},
   "outputs": [],
   "source": []
  },
  {
   "cell_type": "code",
   "execution_count": 21,
   "id": "8d850fea",
   "metadata": {
    "papermill": {
     "duration": 0.324895,
     "end_time": "2025-04-15T12:03:55.328466",
     "exception": false,
     "start_time": "2025-04-15T12:03:55.003571",
     "status": "completed"
    },
    "tags": []
   },
   "outputs": [],
   "source": [
    "onchain_divers = onchain_divers.drop(columns=['curve_address', 'pf_program_index', 'slot', 'block_time', 'name', 'url', 'symbol']).set_index('mint')"
   ]
  },
  {
   "cell_type": "code",
   "execution_count": 22,
   "id": "6a464497",
   "metadata": {
    "papermill": {
     "duration": 0.791649,
     "end_time": "2025-04-15T12:03:56.137869",
     "exception": false,
     "start_time": "2025-04-15T12:03:55.346220",
     "status": "completed"
    },
    "tags": []
   },
   "outputs": [],
   "source": [
    "Xy = Xy.merge(onchain_divers, on='mint', how='left')"
   ]
  },
  {
   "cell_type": "code",
   "execution_count": null,
   "id": "247524e1",
   "metadata": {
    "papermill": {
     "duration": 0.005894,
     "end_time": "2025-04-15T12:03:56.169108",
     "exception": false,
     "start_time": "2025-04-15T12:03:56.163214",
     "status": "completed"
    },
    "tags": []
   },
   "outputs": [],
   "source": []
  },
  {
   "cell_type": "code",
   "execution_count": 23,
   "id": "883f8a40",
   "metadata": {
    "papermill": {
     "duration": 0.014433,
     "end_time": "2025-04-15T12:03:56.189520",
     "exception": false,
     "start_time": "2025-04-15T12:03:56.175087",
     "status": "completed"
    },
    "tags": []
   },
   "outputs": [],
   "source": [
    "if IS_DEBUG:\n",
    "    model = catboost.CatBoostClassifier(task_type=\"GPU\", iterations=50)\n",
    "else:\n",
    "    model = catboost.CatBoostClassifier(task_type=\"GPU\", iterations=1000)"
   ]
  },
  {
   "cell_type": "code",
   "execution_count": 24,
   "id": "bb231e02",
   "metadata": {
    "papermill": {
     "duration": 0.010774,
     "end_time": "2025-04-15T12:03:56.206167",
     "exception": false,
     "start_time": "2025-04-15T12:03:56.195393",
     "status": "completed"
    },
    "tags": []
   },
   "outputs": [],
   "source": [
    "feature_names += list(onchain_divers.columns)"
   ]
  },
  {
   "cell_type": "code",
   "execution_count": 25,
   "id": "995c41f5",
   "metadata": {
    "papermill": {
     "duration": 0.881817,
     "end_time": "2025-04-15T12:03:57.094073",
     "exception": false,
     "start_time": "2025-04-15T12:03:56.212256",
     "status": "completed"
    },
    "tags": []
   },
   "outputs": [
    {
     "data": {
      "text/plain": [
       "['direction_last',\n",
       " 'creator',\n",
       " 'bundle_size',\n",
       " 'amount_of_lookup_reads',\n",
       " 'amount_of_lookup_writes',\n",
       " 'bundle_structure',\n",
       " 'bundled_buys_count',\n",
       " 'creation_ix_index',\n",
       " 'direct_pf_invocation',\n",
       " 'version']"
      ]
     },
     "execution_count": 25,
     "metadata": {},
     "output_type": "execute_result"
    }
   ],
   "source": [
    "cat_features = [c for c in feature_names if Xy[c].dtype == 'object' or Xy[c].nunique() < 10]\n",
    "cat_features"
   ]
  },
  {
   "cell_type": "code",
   "execution_count": 26,
   "id": "c481060e",
   "metadata": {
    "papermill": {
     "duration": 1.458788,
     "end_time": "2025-04-15T12:03:58.559538",
     "exception": false,
     "start_time": "2025-04-15T12:03:57.100750",
     "status": "completed"
    },
    "tags": []
   },
   "outputs": [],
   "source": [
    "Xy[cat_features] = Xy[cat_features].astype(str)"
   ]
  },
  {
   "cell_type": "code",
   "execution_count": 27,
   "id": "e443fc40",
   "metadata": {
    "papermill": {
     "duration": 78.394172,
     "end_time": "2025-04-15T12:05:16.960149",
     "exception": false,
     "start_time": "2025-04-15T12:03:58.565977",
     "status": "completed"
    },
    "tags": []
   },
   "outputs": [
    {
     "name": "stdout",
     "output_type": "stream",
     "text": [
      "Learning rate set to 0.023629\n",
      "0:\tlearn: 0.6370664\ttotal: 28.1ms\tremaining: 28s\n",
      "100:\tlearn: 0.0397182\ttotal: 2.38s\tremaining: 21.2s\n",
      "200:\tlearn: 0.0375819\ttotal: 4.76s\tremaining: 18.9s\n",
      "300:\tlearn: 0.0369761\ttotal: 7.15s\tremaining: 16.6s\n",
      "400:\tlearn: 0.0365851\ttotal: 9.5s\tremaining: 14.2s\n",
      "500:\tlearn: 0.0362607\ttotal: 11.9s\tremaining: 11.9s\n",
      "600:\tlearn: 0.0359920\ttotal: 14.3s\tremaining: 9.51s\n",
      "700:\tlearn: 0.0357368\ttotal: 16.7s\tremaining: 7.13s\n",
      "800:\tlearn: 0.0355091\ttotal: 19.2s\tremaining: 4.76s\n",
      "900:\tlearn: 0.0352944\ttotal: 21.6s\tremaining: 2.38s\n",
      "999:\tlearn: 0.0350785\ttotal: 24s\tremaining: 0us\n"
     ]
    },
    {
     "data": {
      "text/plain": [
       "<catboost.core.CatBoostClassifier at 0x70f47e5d5bd0>"
      ]
     },
     "execution_count": 27,
     "metadata": {},
     "output_type": "execute_result"
    }
   ],
   "source": [
    "model.fit(Xy[feature_names], Xy['has_graduated'], cat_features=cat_features, metric_period=100)"
   ]
  },
  {
   "cell_type": "code",
   "execution_count": 28,
   "id": "9756d443",
   "metadata": {
    "papermill": {
     "duration": 0.727133,
     "end_time": "2025-04-15T12:05:17.699317",
     "exception": false,
     "start_time": "2025-04-15T12:05:16.972184",
     "status": "completed"
    },
    "tags": []
   },
   "outputs": [],
   "source": [
    "test = pd.read_csv(os.path.join(DIR, 'test_unlabeled.csv'))"
   ]
  },
  {
   "cell_type": "code",
   "execution_count": 29,
   "id": "0156912c",
   "metadata": {
    "papermill": {
     "duration": 1.200779,
     "end_time": "2025-04-15T12:05:18.907247",
     "exception": false,
     "start_time": "2025-04-15T12:05:17.706468",
     "status": "completed"
    },
    "tags": []
   },
   "outputs": [],
   "source": [
    "X_test = test[['mint']].merge(features, left_on='mint', right_on='base_coin', how='left')"
   ]
  },
  {
   "cell_type": "code",
   "execution_count": 30,
   "id": "4326df24",
   "metadata": {
    "papermill": {
     "duration": 0.652098,
     "end_time": "2025-04-15T12:05:19.566420",
     "exception": false,
     "start_time": "2025-04-15T12:05:18.914322",
     "status": "completed"
    },
    "tags": []
   },
   "outputs": [],
   "source": [
    "X_test = X_test.merge(onchain_divers, on='mint', how='left')"
   ]
  },
  {
   "cell_type": "code",
   "execution_count": 31,
   "id": "892fdaad",
   "metadata": {
    "papermill": {
     "duration": 1.309305,
     "end_time": "2025-04-15T12:05:20.882714",
     "exception": false,
     "start_time": "2025-04-15T12:05:19.573409",
     "status": "completed"
    },
    "tags": []
   },
   "outputs": [],
   "source": [
    "X_test[cat_features] = X_test[cat_features].astype(str)"
   ]
  },
  {
   "cell_type": "code",
   "execution_count": 32,
   "id": "2540a131",
   "metadata": {
    "papermill": {
     "duration": 2.248928,
     "end_time": "2025-04-15T12:05:23.138901",
     "exception": false,
     "start_time": "2025-04-15T12:05:20.889973",
     "status": "completed"
    },
    "tags": []
   },
   "outputs": [],
   "source": [
    "p = model.predict_proba(X_test[feature_names])[:, 1]"
   ]
  },
  {
   "cell_type": "code",
   "execution_count": 33,
   "id": "7df16bc1-3627-42b3-944a-c19879a452aa",
   "metadata": {},
   "outputs": [],
   "source": [
    "X_test.set_index('mint', drop=True)[feature_names].to_parquet('full_features.parquet')"
   ]
  },
  {
   "cell_type": "code",
   "execution_count": 34,
   "id": "714a4c59",
   "metadata": {
    "papermill": {
     "duration": 0.116669,
     "end_time": "2025-04-15T12:05:23.262424",
     "exception": false,
     "start_time": "2025-04-15T12:05:23.145755",
     "status": "completed"
    },
    "tags": []
   },
   "outputs": [
    {
     "data": {
      "text/plain": [
       "0.001729    37\n",
       "0.001728    27\n",
       "0.000996    21\n",
       "0.001008    20\n",
       "0.001589    19\n",
       "            ..\n",
       "0.006791     1\n",
       "0.004032     1\n",
       "0.003023     1\n",
       "0.007272     1\n",
       "0.001114     1\n",
       "Name: count, Length: 473931, dtype: int64"
      ]
     },
     "execution_count": 34,
     "metadata": {},
     "output_type": "execute_result"
    }
   ],
   "source": [
    "pd.Series(p).value_counts()"
   ]
  },
  {
   "cell_type": "code",
   "execution_count": 35,
   "id": "45ac2259",
   "metadata": {
    "papermill": {
     "duration": 0.019282,
     "end_time": "2025-04-15T12:05:23.288967",
     "exception": false,
     "start_time": "2025-04-15T12:05:23.269685",
     "status": "completed"
    },
    "tags": []
   },
   "outputs": [],
   "source": [
    "submission = X_test[['mint']]"
   ]
  },
  {
   "cell_type": "code",
   "execution_count": 36,
   "id": "cfde2931",
   "metadata": {
    "papermill": {
     "duration": 0.012821,
     "end_time": "2025-04-15T12:05:23.308454",
     "exception": false,
     "start_time": "2025-04-15T12:05:23.295633",
     "status": "completed"
    },
    "tags": []
   },
   "outputs": [
    {
     "name": "stderr",
     "output_type": "stream",
     "text": [
      "/tmp/ipykernel_165509/4038815070.py:1: SettingWithCopyWarning: \n",
      "A value is trying to be set on a copy of a slice from a DataFrame.\n",
      "Try using .loc[row_indexer,col_indexer] = value instead\n",
      "\n",
      "See the caveats in the documentation: https://pandas.pydata.org/pandas-docs/stable/user_guide/indexing.html#returning-a-view-versus-a-copy\n",
      "  submission['has_graduated'] = p\n"
     ]
    }
   ],
   "source": [
    "submission['has_graduated'] = p"
   ]
  },
  {
   "cell_type": "code",
   "execution_count": 37,
   "id": "93180927",
   "metadata": {
    "papermill": {
     "duration": 0.02467,
     "end_time": "2025-04-15T12:05:23.339780",
     "exception": false,
     "start_time": "2025-04-15T12:05:23.315110",
     "status": "completed"
    },
    "tags": []
   },
   "outputs": [
    {
     "data": {
      "text/html": [
       "<div>\n",
       "<style scoped>\n",
       "    .dataframe tbody tr th:only-of-type {\n",
       "        vertical-align: middle;\n",
       "    }\n",
       "\n",
       "    .dataframe tbody tr th {\n",
       "        vertical-align: top;\n",
       "    }\n",
       "\n",
       "    .dataframe thead th {\n",
       "        text-align: right;\n",
       "    }\n",
       "</style>\n",
       "<table border=\"1\" class=\"dataframe\">\n",
       "  <thead>\n",
       "    <tr style=\"text-align: right;\">\n",
       "      <th></th>\n",
       "      <th>mint</th>\n",
       "      <th>has_graduated</th>\n",
       "    </tr>\n",
       "  </thead>\n",
       "  <tbody>\n",
       "    <tr>\n",
       "      <th>0</th>\n",
       "      <td>9Wt3N7etKMX9cioTdEJ5S4b8A9nK3M66n9RFVgBGpump</td>\n",
       "      <td>0.002509</td>\n",
       "    </tr>\n",
       "    <tr>\n",
       "      <th>1</th>\n",
       "      <td>9q5y2X2P8ZEKTjyXBVcS5q2EZM7HbNV8DURY2qnvqi2f</td>\n",
       "      <td>0.001397</td>\n",
       "    </tr>\n",
       "    <tr>\n",
       "      <th>2</th>\n",
       "      <td>HL2di8dcQ7eYDmkcFoZ4zJyHX5SbRZXAJxTegL3JPfx2</td>\n",
       "      <td>0.000482</td>\n",
       "    </tr>\n",
       "    <tr>\n",
       "      <th>3</th>\n",
       "      <td>7iAFj9Pc5QH9jbGmHwYe8T6yzNVbjhL13PNJXVTspump</td>\n",
       "      <td>0.013539</td>\n",
       "    </tr>\n",
       "    <tr>\n",
       "      <th>4</th>\n",
       "      <td>F7U1Rdgz2KFpneKpAnYytWF2jggnsrLScfi2A668pump</td>\n",
       "      <td>0.000976</td>\n",
       "    </tr>\n",
       "    <tr>\n",
       "      <th>...</th>\n",
       "      <td>...</td>\n",
       "      <td>...</td>\n",
       "    </tr>\n",
       "    <tr>\n",
       "      <th>478827</th>\n",
       "      <td>BRDCfyWZaZURhCwDyst2UufM1yJ7r2hiBQurp323pump</td>\n",
       "      <td>0.003541</td>\n",
       "    </tr>\n",
       "    <tr>\n",
       "      <th>478828</th>\n",
       "      <td>Dt5gdJqfAnn6EiimukYwpEkg5VnT7s4CGuPjM7ahpump</td>\n",
       "      <td>0.001938</td>\n",
       "    </tr>\n",
       "    <tr>\n",
       "      <th>478829</th>\n",
       "      <td>2tGi3egEvr7gH5VD3DC8BWrWB4sem3XetcRzdh6gpump</td>\n",
       "      <td>0.004187</td>\n",
       "    </tr>\n",
       "    <tr>\n",
       "      <th>478830</th>\n",
       "      <td>6Lyy15Hondyj4XTWf6SzviioAuxoYs1UiMEvL74Gpump</td>\n",
       "      <td>0.001826</td>\n",
       "    </tr>\n",
       "    <tr>\n",
       "      <th>478831</th>\n",
       "      <td>GyqrbKjdmJH4AnCG3nuP1f1zQnpm6iBKTU4vaf4wNW4o</td>\n",
       "      <td>0.004384</td>\n",
       "    </tr>\n",
       "  </tbody>\n",
       "</table>\n",
       "<p>478832 rows × 2 columns</p>\n",
       "</div>"
      ],
      "text/plain": [
       "                                                mint  has_graduated\n",
       "0       9Wt3N7etKMX9cioTdEJ5S4b8A9nK3M66n9RFVgBGpump       0.002509\n",
       "1       9q5y2X2P8ZEKTjyXBVcS5q2EZM7HbNV8DURY2qnvqi2f       0.001397\n",
       "2       HL2di8dcQ7eYDmkcFoZ4zJyHX5SbRZXAJxTegL3JPfx2       0.000482\n",
       "3       7iAFj9Pc5QH9jbGmHwYe8T6yzNVbjhL13PNJXVTspump       0.013539\n",
       "4       F7U1Rdgz2KFpneKpAnYytWF2jggnsrLScfi2A668pump       0.000976\n",
       "...                                              ...            ...\n",
       "478827  BRDCfyWZaZURhCwDyst2UufM1yJ7r2hiBQurp323pump       0.003541\n",
       "478828  Dt5gdJqfAnn6EiimukYwpEkg5VnT7s4CGuPjM7ahpump       0.001938\n",
       "478829  2tGi3egEvr7gH5VD3DC8BWrWB4sem3XetcRzdh6gpump       0.004187\n",
       "478830  6Lyy15Hondyj4XTWf6SzviioAuxoYs1UiMEvL74Gpump       0.001826\n",
       "478831  GyqrbKjdmJH4AnCG3nuP1f1zQnpm6iBKTU4vaf4wNW4o       0.004384\n",
       "\n",
       "[478832 rows x 2 columns]"
      ]
     },
     "execution_count": 37,
     "metadata": {},
     "output_type": "execute_result"
    }
   ],
   "source": [
    "submission"
   ]
  },
  {
   "cell_type": "code",
   "execution_count": 38,
   "id": "4c4d638f",
   "metadata": {
    "papermill": {
     "duration": 0.011385,
     "end_time": "2025-04-15T12:05:23.357927",
     "exception": false,
     "start_time": "2025-04-15T12:05:23.346542",
     "status": "completed"
    },
    "tags": []
   },
   "outputs": [],
   "source": [
    "assert submission.shape[0] == test.shape[0]"
   ]
  },
  {
   "cell_type": "code",
   "execution_count": 39,
   "id": "78383928",
   "metadata": {
    "papermill": {
     "duration": 1.192972,
     "end_time": "2025-04-15T12:05:24.557704",
     "exception": false,
     "start_time": "2025-04-15T12:05:23.364732",
     "status": "completed"
    },
    "tags": []
   },
   "outputs": [],
   "source": [
    "submission.to_csv('leak_submission.csv', index=False)"
   ]
  },
  {
   "cell_type": "code",
   "execution_count": 40,
   "id": "00b790e7",
   "metadata": {
    "papermill": {
     "duration": 0.028247,
     "end_time": "2025-04-15T12:05:24.593205",
     "exception": false,
     "start_time": "2025-04-15T12:05:24.564958",
     "status": "completed"
    },
    "tags": []
   },
   "outputs": [
    {
     "data": {
      "text/plain": [
       "[(0.0015236473655254774, 'version'),\n",
       " (0.00751444042587431, 'bundle_size'),\n",
       " (0.03125955207157971, 'direct_pf_invocation'),\n",
       " (0.05353506357585184, 'amount_of_lookup_writes'),\n",
       " (0.05688969646121022, 'provided_gas_fee_min'),\n",
       " (0.07952312684430067, 'fee_min'),\n",
       " (0.08182620114703883, 'provided_gas_limit_max'),\n",
       " (0.11212252872705837, 'amount_of_lookup_reads'),\n",
       " (0.12033304900082235, 'consumed_gas_first'),\n",
       " (0.1580021331402418, 'fee_last'),\n",
       " (0.15952319206016854, 'provided_gas_limit_min'),\n",
       " (0.17862122079743797, 'gas_used'),\n",
       " (0.20046967422472822, 'provided_gas_fee_max'),\n",
       " (0.21200478831955527, 'fee_std'),\n",
       " (0.21269806695821825, 'base_coin_amount_first'),\n",
       " (0.23402020194944026, 'provided_gas_fee_last'),\n",
       " (0.2342259952757878, 'consumed_gas_max'),\n",
       " (0.24454890018735273, 'fee_max'),\n",
       " (0.24560049619007948, 'direction_last'),\n",
       " (0.27226287623153284, 'provided_gas_limit_last'),\n",
       " (0.27553722463528124, 'consumed_gas_median'),\n",
       " (0.2795208378258291, 'quote_coin_amount_max'),\n",
       " (0.2833531368531489, 'tx_idx'),\n",
       " (0.28491083292008995, 'bundled_buys_count'),\n",
       " (0.3132352192173347, 'quote_coin_amount_std'),\n",
       " (0.32129694032476985, 'consumed_gas_min'),\n",
       " (0.3312759049438089, 'base_coin_amount_last'),\n",
       " (0.3418633775502223, 'quote_coin_amount_first'),\n",
       " (0.3553027454701497, 'consumed_gas_mean'),\n",
       " (0.3599897996045835, 'virtual_sol_balance_after_first'),\n",
       " (0.37865754013788416, 'provided_gas_limit_std'),\n",
       " (0.38929079947290934, 'consumed_gas_last'),\n",
       " (0.41249316195194846, 'consumed_gas_std'),\n",
       " (0.4419209225549656, 'base_coin_amount_max'),\n",
       " (0.4420736305314792, 'base_coin_amount_std'),\n",
       " (0.4690197723068875, 'provided_gas_fee_std'),\n",
       " (0.48669990159457405, 'slot_median_offset'),\n",
       " (0.5013839125745062, 'provided_gas_fee_mean'),\n",
       " (0.5364827813912434, 'virtual_sol_balance_after_sum'),\n",
       " (0.5641086043549194, 'base_coin_amount_sum'),\n",
       " (0.56709805367781, 'provided_gas_limit_sum'),\n",
       " (0.589494678656278, 'provided_gas_fee_median'),\n",
       " (0.6040099686749952, 'provided_gas_limit_median'),\n",
       " (0.6117533085366744, 'creator'),\n",
       " (0.6252913063883233, 'virtual_sol_balance_after_std'),\n",
       " (0.6306551191801503, 'fee_mean'),\n",
       " (0.6378809419433704, 'provided_gas_limit_mean'),\n",
       " (0.6416454069515051, 'base_coin_amount_min'),\n",
       " (0.658159376108147, 'virtual_sol_balance_after_median'),\n",
       " (0.6594618260168552, 'fee_first'),\n",
       " (0.7039778534602957, 'base_coin_amount_median'),\n",
       " (0.7073468141334228, 'consumed_gas_sum'),\n",
       " (0.7365953270857264, 'quote_coin_amount_min'),\n",
       " (0.7462159881074694, 'bundled_buys'),\n",
       " (0.7473797672398945, 'quote_coin_amount_last'),\n",
       " (0.8032686935419517, 'fee_sum'),\n",
       " (0.8820239669722122, 'provided_gas_fee_sum'),\n",
       " (1.0069053080285355, 'creation_ix_index'),\n",
       " (1.0192216570247297, 'provided_gas_fee_first'),\n",
       " (1.0953853955979875, 'virtual_sol_balance_after_max'),\n",
       " (1.0977836178443676, 'fee_median'),\n",
       " (1.147226965569687, 'slot_mean_offset'),\n",
       " (1.2673243791580846, 'quote_coin_amount_count'),\n",
       " (1.2757362957700147, 'quote_coin_amount_median'),\n",
       " (1.3002170464048892, 'dev_balance'),\n",
       " (1.739208975313799, 'creator_duplicate_count'),\n",
       " (1.7672779924822666, 'base_coin_amount_mean'),\n",
       " (1.7745847266130705, 'quote_coin_amount_sum'),\n",
       " (2.0151302269179996, 'bundle_structure'),\n",
       " (2.1394116151731146, 'amount_of_instructions'),\n",
       " (2.149542158432405, 'virtual_sol_balance_after_min'),\n",
       " (2.8462277572231196, 'provided_gas_limit_first'),\n",
       " (5.472350471230758, 'creator_train_duplicate_count'),\n",
       " (6.25348955125666, 'slot_max_offset'),\n",
       " (10.170832603701161, 'name_duplicate_count'),\n",
       " (15.85373898420413, 'name_train_duplicate_count'),\n",
       " (16.39122397820775, 'virtual_sol_balance_after_last')]"
      ]
     },
     "execution_count": 40,
     "metadata": {},
     "output_type": "execute_result"
    }
   ],
   "source": [
    "sorted(zip(map(float, model.get_feature_importance()), feature_names))"
   ]
  },
  {
   "cell_type": "code",
   "execution_count": null,
   "id": "2e2c07dd",
   "metadata": {
    "papermill": {
     "duration": 0.006786,
     "end_time": "2025-04-15T12:05:24.607029",
     "exception": false,
     "start_time": "2025-04-15T12:05:24.600243",
     "status": "completed"
    },
    "tags": []
   },
   "outputs": [],
   "source": []
  }
 ],
 "metadata": {
  "kaggle": {
   "accelerator": "gpu",
   "dataSources": [
    {
     "databundleVersionId": 11654606,
     "sourceId": 97569,
     "sourceType": "competition"
    },
    {
     "datasetId": 7012766,
     "sourceId": 11263579,
     "sourceType": "datasetVersion"
    }
   ],
   "dockerImageVersionId": 30918,
   "isGpuEnabled": true,
   "isInternetEnabled": false,
   "language": "python",
   "sourceType": "notebook"
  },
  "kernelspec": {
   "display_name": "Python3 (ipykernel)",
   "language": "python",
   "name": "python3"
  },
  "language_info": {
   "codemirror_mode": {
    "name": "ipython",
    "version": 3
   },
   "file_extension": ".py",
   "mimetype": "text/x-python",
   "name": "python",
   "nbconvert_exporter": "python",
   "pygments_lexer": "ipython3",
   "version": "3.10.12"
  },
  "papermill": {
   "default_parameters": {},
   "duration": 246.903396,
   "end_time": "2025-04-15T12:05:25.834253",
   "environment_variables": {},
   "exception": null,
   "input_path": "__notebook__.ipynb",
   "output_path": "__notebook__.ipynb",
   "parameters": {},
   "start_time": "2025-04-15T12:01:18.930857",
   "version": "2.6.0"
  },
  "widgets": {
   "application/vnd.jupyter.widget-state+json": {
    "state": {
     "01c1e3f6078c494bb395e1ec4480ecbf": {
      "model_module": "@jupyter-widgets/controls",
      "model_module_version": "2.0.0",
      "model_name": "HTMLModel",
      "state": {
       "_dom_classes": [],
       "_model_module": "@jupyter-widgets/controls",
       "_model_module_version": "2.0.0",
       "_model_name": "HTMLModel",
       "_view_count": null,
       "_view_module": "@jupyter-widgets/controls",
       "_view_module_version": "2.0.0",
       "_view_name": "HTMLView",
       "description": "",
       "description_allow_html": false,
       "layout": "IPY_MODEL_b2c96f262d5942aa890bc230aef1fc88",
       "placeholder": "​",
       "style": "IPY_MODEL_c9020a02b06c43049ab29309561ba800",
       "tabbable": null,
       "tooltip": null,
       "value": "100%"
      }
     },
     "08d6631f730f447a87acdc2994863e15": {
      "model_module": "@jupyter-widgets/base",
      "model_module_version": "2.0.0",
      "model_name": "LayoutModel",
      "state": {
       "_model_module": "@jupyter-widgets/base",
       "_model_module_version": "2.0.0",
       "_model_name": "LayoutModel",
       "_view_count": null,
       "_view_module": "@jupyter-widgets/base",
       "_view_module_version": "2.0.0",
       "_view_name": "LayoutView",
       "align_content": null,
       "align_items": null,
       "align_self": null,
       "border_bottom": null,
       "border_left": null,
       "border_right": null,
       "border_top": null,
       "bottom": null,
       "display": null,
       "flex": null,
       "flex_flow": null,
       "grid_area": null,
       "grid_auto_columns": null,
       "grid_auto_flow": null,
       "grid_auto_rows": null,
       "grid_column": null,
       "grid_gap": null,
       "grid_row": null,
       "grid_template_areas": null,
       "grid_template_columns": null,
       "grid_template_rows": null,
       "height": null,
       "justify_content": null,
       "justify_items": null,
       "left": null,
       "margin": null,
       "max_height": null,
       "max_width": null,
       "min_height": null,
       "min_width": null,
       "object_fit": null,
       "object_position": null,
       "order": null,
       "overflow": null,
       "padding": null,
       "right": null,
       "top": null,
       "visibility": null,
       "width": null
      }
     },
     "0fd15308be03425ba0b9be66cc5b5a81": {
      "model_module": "@jupyter-widgets/controls",
      "model_module_version": "2.0.0",
      "model_name": "HTMLStyleModel",
      "state": {
       "_model_module": "@jupyter-widgets/controls",
       "_model_module_version": "2.0.0",
       "_model_name": "HTMLStyleModel",
       "_view_count": null,
       "_view_module": "@jupyter-widgets/base",
       "_view_module_version": "2.0.0",
       "_view_name": "StyleView",
       "background": null,
       "description_width": "",
       "font_size": null,
       "text_color": null
      }
     },
     "1a0f496a79bc4de6b6ca863aa0551994": {
      "model_module": "@jupyter-widgets/controls",
      "model_module_version": "2.0.0",
      "model_name": "HBoxModel",
      "state": {
       "_dom_classes": [],
       "_model_module": "@jupyter-widgets/controls",
       "_model_module_version": "2.0.0",
       "_model_name": "HBoxModel",
       "_view_count": null,
       "_view_module": "@jupyter-widgets/controls",
       "_view_module_version": "2.0.0",
       "_view_name": "HBoxView",
       "box_style": "",
       "children": [
        "IPY_MODEL_01c1e3f6078c494bb395e1ec4480ecbf",
        "IPY_MODEL_fd20d301e8c54217a2a93ae682194457",
        "IPY_MODEL_f4cb25eb505642198abbd00e949438ca"
       ],
       "layout": "IPY_MODEL_59455045b6d549078a74250facc907bc",
       "tabbable": null,
       "tooltip": null
      }
     },
     "486320e99b5f4237b35be0a4c0e4470a": {
      "model_module": "@jupyter-widgets/controls",
      "model_module_version": "2.0.0",
      "model_name": "ProgressStyleModel",
      "state": {
       "_model_module": "@jupyter-widgets/controls",
       "_model_module_version": "2.0.0",
       "_model_name": "ProgressStyleModel",
       "_view_count": null,
       "_view_module": "@jupyter-widgets/base",
       "_view_module_version": "2.0.0",
       "_view_name": "StyleView",
       "bar_color": null,
       "description_width": ""
      }
     },
     "59455045b6d549078a74250facc907bc": {
      "model_module": "@jupyter-widgets/base",
      "model_module_version": "2.0.0",
      "model_name": "LayoutModel",
      "state": {
       "_model_module": "@jupyter-widgets/base",
       "_model_module_version": "2.0.0",
       "_model_name": "LayoutModel",
       "_view_count": null,
       "_view_module": "@jupyter-widgets/base",
       "_view_module_version": "2.0.0",
       "_view_name": "LayoutView",
       "align_content": null,
       "align_items": null,
       "align_self": null,
       "border_bottom": null,
       "border_left": null,
       "border_right": null,
       "border_top": null,
       "bottom": null,
       "display": null,
       "flex": null,
       "flex_flow": null,
       "grid_area": null,
       "grid_auto_columns": null,
       "grid_auto_flow": null,
       "grid_auto_rows": null,
       "grid_column": null,
       "grid_gap": null,
       "grid_row": null,
       "grid_template_areas": null,
       "grid_template_columns": null,
       "grid_template_rows": null,
       "height": null,
       "justify_content": null,
       "justify_items": null,
       "left": null,
       "margin": null,
       "max_height": null,
       "max_width": null,
       "min_height": null,
       "min_width": null,
       "object_fit": null,
       "object_position": null,
       "order": null,
       "overflow": null,
       "padding": null,
       "right": null,
       "top": null,
       "visibility": null,
       "width": null
      }
     },
     "88d23c2467b64486bb3201f576819aac": {
      "model_module": "@jupyter-widgets/base",
      "model_module_version": "2.0.0",
      "model_name": "LayoutModel",
      "state": {
       "_model_module": "@jupyter-widgets/base",
       "_model_module_version": "2.0.0",
       "_model_name": "LayoutModel",
       "_view_count": null,
       "_view_module": "@jupyter-widgets/base",
       "_view_module_version": "2.0.0",
       "_view_name": "LayoutView",
       "align_content": null,
       "align_items": null,
       "align_self": null,
       "border_bottom": null,
       "border_left": null,
       "border_right": null,
       "border_top": null,
       "bottom": null,
       "display": null,
       "flex": null,
       "flex_flow": null,
       "grid_area": null,
       "grid_auto_columns": null,
       "grid_auto_flow": null,
       "grid_auto_rows": null,
       "grid_column": null,
       "grid_gap": null,
       "grid_row": null,
       "grid_template_areas": null,
       "grid_template_columns": null,
       "grid_template_rows": null,
       "height": null,
       "justify_content": null,
       "justify_items": null,
       "left": null,
       "margin": null,
       "max_height": null,
       "max_width": null,
       "min_height": null,
       "min_width": null,
       "object_fit": null,
       "object_position": null,
       "order": null,
       "overflow": null,
       "padding": null,
       "right": null,
       "top": null,
       "visibility": null,
       "width": null
      }
     },
     "b2c96f262d5942aa890bc230aef1fc88": {
      "model_module": "@jupyter-widgets/base",
      "model_module_version": "2.0.0",
      "model_name": "LayoutModel",
      "state": {
       "_model_module": "@jupyter-widgets/base",
       "_model_module_version": "2.0.0",
       "_model_name": "LayoutModel",
       "_view_count": null,
       "_view_module": "@jupyter-widgets/base",
       "_view_module_version": "2.0.0",
       "_view_name": "LayoutView",
       "align_content": null,
       "align_items": null,
       "align_self": null,
       "border_bottom": null,
       "border_left": null,
       "border_right": null,
       "border_top": null,
       "bottom": null,
       "display": null,
       "flex": null,
       "flex_flow": null,
       "grid_area": null,
       "grid_auto_columns": null,
       "grid_auto_flow": null,
       "grid_auto_rows": null,
       "grid_column": null,
       "grid_gap": null,
       "grid_row": null,
       "grid_template_areas": null,
       "grid_template_columns": null,
       "grid_template_rows": null,
       "height": null,
       "justify_content": null,
       "justify_items": null,
       "left": null,
       "margin": null,
       "max_height": null,
       "max_width": null,
       "min_height": null,
       "min_width": null,
       "object_fit": null,
       "object_position": null,
       "order": null,
       "overflow": null,
       "padding": null,
       "right": null,
       "top": null,
       "visibility": null,
       "width": null
      }
     },
     "c9020a02b06c43049ab29309561ba800": {
      "model_module": "@jupyter-widgets/controls",
      "model_module_version": "2.0.0",
      "model_name": "HTMLStyleModel",
      "state": {
       "_model_module": "@jupyter-widgets/controls",
       "_model_module_version": "2.0.0",
       "_model_name": "HTMLStyleModel",
       "_view_count": null,
       "_view_module": "@jupyter-widgets/base",
       "_view_module_version": "2.0.0",
       "_view_name": "StyleView",
       "background": null,
       "description_width": "",
       "font_size": null,
       "text_color": null
      }
     },
     "f4cb25eb505642198abbd00e949438ca": {
      "model_module": "@jupyter-widgets/controls",
      "model_module_version": "2.0.0",
      "model_name": "HTMLModel",
      "state": {
       "_dom_classes": [],
       "_model_module": "@jupyter-widgets/controls",
       "_model_module_version": "2.0.0",
       "_model_name": "HTMLModel",
       "_view_count": null,
       "_view_module": "@jupyter-widgets/controls",
       "_view_module_version": "2.0.0",
       "_view_name": "HTMLView",
       "description": "",
       "description_allow_html": false,
       "layout": "IPY_MODEL_88d23c2467b64486bb3201f576819aac",
       "placeholder": "​",
       "style": "IPY_MODEL_0fd15308be03425ba0b9be66cc5b5a81",
       "tabbable": null,
       "tooltip": null,
       "value": " 41/41 [01:40&lt;00:00,  2.33s/it]"
      }
     },
     "fd20d301e8c54217a2a93ae682194457": {
      "model_module": "@jupyter-widgets/controls",
      "model_module_version": "2.0.0",
      "model_name": "FloatProgressModel",
      "state": {
       "_dom_classes": [],
       "_model_module": "@jupyter-widgets/controls",
       "_model_module_version": "2.0.0",
       "_model_name": "FloatProgressModel",
       "_view_count": null,
       "_view_module": "@jupyter-widgets/controls",
       "_view_module_version": "2.0.0",
       "_view_name": "ProgressView",
       "bar_style": "success",
       "description": "",
       "description_allow_html": false,
       "layout": "IPY_MODEL_08d6631f730f447a87acdc2994863e15",
       "max": 41,
       "min": 0,
       "orientation": "horizontal",
       "style": "IPY_MODEL_486320e99b5f4237b35be0a4c0e4470a",
       "tabbable": null,
       "tooltip": null,
       "value": 41
      }
     }
    },
    "version_major": 2,
    "version_minor": 0
   }
  }
 },
 "nbformat": 4,
 "nbformat_minor": 5
}
