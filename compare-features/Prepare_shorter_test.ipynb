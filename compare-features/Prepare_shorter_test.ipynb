{
 "cells": [
  {
   "cell_type": "code",
   "execution_count": 1,
   "id": "9434b54e-deaf-4a8f-82b2-9b2cb5d911d4",
   "metadata": {},
   "outputs": [],
   "source": [
    "import sys"
   ]
  },
  {
   "cell_type": "code",
   "execution_count": 2,
   "id": "330f307f-e434-41c9-a760-a6e0a1ef5d3d",
   "metadata": {},
   "outputs": [
    {
     "name": "stdout",
     "output_type": "stream",
     "text": [
      "Requirement already satisfied: kaggle in /venv/main/lib/python3.10/site-packages (1.7.4.2)\n",
      "Requirement already satisfied: pyarrow in /venv/main/lib/python3.10/site-packages (20.0.0)\n",
      "Requirement already satisfied: pandas in /venv/main/lib/python3.10/site-packages (2.2.3)\n",
      "Requirement already satisfied: requests in /venv/main/lib/python3.10/site-packages (from kaggle) (2.32.3)\n",
      "Requirement already satisfied: tqdm in /venv/main/lib/python3.10/site-packages (from kaggle) (4.67.1)\n",
      "Requirement already satisfied: idna in /venv/main/lib/python3.10/site-packages (from kaggle) (3.10)\n",
      "Requirement already satisfied: python-slugify in /venv/main/lib/python3.10/site-packages (from kaggle) (8.0.4)\n",
      "Requirement already satisfied: webencodings in /venv/main/lib/python3.10/site-packages (from kaggle) (0.5.1)\n",
      "Requirement already satisfied: python-dateutil>=2.5.3 in /venv/main/lib/python3.10/site-packages (from kaggle) (2.9.0.post0)\n",
      "Requirement already satisfied: certifi>=14.05.14 in /venv/main/lib/python3.10/site-packages (from kaggle) (2025.1.31)\n",
      "Requirement already satisfied: text-unidecode in /venv/main/lib/python3.10/site-packages (from kaggle) (1.3)\n",
      "Requirement already satisfied: protobuf in /venv/main/lib/python3.10/site-packages (from kaggle) (6.30.2)\n",
      "Requirement already satisfied: urllib3>=1.15.1 in /venv/main/lib/python3.10/site-packages (from kaggle) (2.3.0)\n",
      "Requirement already satisfied: setuptools>=21.0.0 in /venv/main/lib/python3.10/site-packages (from kaggle) (59.6.0)\n",
      "Requirement already satisfied: charset-normalizer in /venv/main/lib/python3.10/site-packages (from kaggle) (3.4.1)\n",
      "Requirement already satisfied: six>=1.10 in /venv/main/lib/python3.10/site-packages (from kaggle) (1.17.0)\n",
      "Requirement already satisfied: bleach in /venv/main/lib/python3.10/site-packages (from kaggle) (6.2.0)\n",
      "Requirement already satisfied: pytz>=2020.1 in /venv/main/lib/python3.10/site-packages (from pandas) (2025.2)\n",
      "Requirement already satisfied: numpy>=1.22.4 in /venv/main/lib/python3.10/site-packages (from pandas) (2.1.2)\n",
      "Requirement already satisfied: tzdata>=2022.7 in /venv/main/lib/python3.10/site-packages (from pandas) (2025.2)\n"
     ]
    }
   ],
   "source": [
    "!{sys.executable} -m pip install kaggle pyarrow pandas"
   ]
  },
  {
   "cell_type": "markdown",
   "id": "a18634ed-4e43-4d4f-8df6-772ceddbfc26",
   "metadata": {},
   "source": [
    "## Download data"
   ]
  },
  {
   "cell_type": "code",
   "execution_count": null,
   "id": "90c4b39f-8cac-4888-a1c9-fc25188ad5fa",
   "metadata": {},
   "outputs": [],
   "source": [
    "!mkdir data"
   ]
  },
  {
   "cell_type": "code",
   "execution_count": 8,
   "id": "3a7bf6ae-1ec8-4a0a-b66c-7590751c76c4",
   "metadata": {},
   "outputs": [],
   "source": [
    "!kaggle competitions download -c solana-skill-sprint-memcoin-graduation -p data/"
   ]
  },
  {
   "cell_type": "code",
   "execution_count": 9,
   "id": "3cf8bf8a-93cb-4b10-9c0d-9b6dfd6058c3",
   "metadata": {},
   "outputs": [
    {
     "name": "stdout",
     "output_type": "stream",
     "text": [
      "Dataset URL: https://www.kaggle.com/datasets/gleb270/pump-fun-api-solana-tokens-info\n",
      "License(s): CC0-1.0\n"
     ]
    }
   ],
   "source": [
    "!kaggle datasets download \\\n",
    "  -d gleb270/pump-fun-api-solana-tokens-info \\\n",
    "  -p data"
   ]
  },
  {
   "cell_type": "code",
   "execution_count": 10,
   "id": "e79db709-c8a0-440b-84ca-8b56d802200f",
   "metadata": {},
   "outputs": [
    {
     "name": "stdout",
     "output_type": "stream",
     "text": [
      "Dataset URL: https://www.kaggle.com/datasets/dremovd/pump-fun-graduation-february-2025\n",
      "License(s): CC0-1.0\n"
     ]
    }
   ],
   "source": [
    "!kaggle datasets download \\\n",
    "  -d dremovd/pump-fun-graduation-february-2025 \\\n",
    "  -p data"
   ]
  },
  {
   "cell_type": "code",
   "execution_count": 11,
   "id": "369e06cd-123e-4ead-8e05-f399965e78b0",
   "metadata": {},
   "outputs": [
    {
     "name": "stdout",
     "output_type": "stream",
     "text": [
      "pump-fun-api-solana-tokens-info.zip\n",
      "pump-fun-graduation-february-2025.zip\n",
      "solana-skill-sprint-memcoin-graduation.zip\n"
     ]
    }
   ],
   "source": [
    "!ls data"
   ]
  },
  {
   "cell_type": "code",
   "execution_count": 12,
   "id": "fe35f3b4-6c3b-4572-99dc-9a32d20a75b4",
   "metadata": {},
   "outputs": [
    {
     "name": "stdout",
     "output_type": "stream",
     "text": [
      "Archive:  pump-fun-graduation-february-2025.zip\n",
      "  inflating: chunk_1.csv             \n",
      "  inflating: chunk_10.csv            \n",
      "  inflating: chunk_11.csv            \n",
      "  inflating: chunk_12.csv            \n",
      "  inflating: chunk_13.csv            \n",
      "  inflating: chunk_14.csv            \n",
      "  inflating: chunk_15.csv            \n",
      "  inflating: chunk_16.csv            \n",
      "  inflating: chunk_17.csv            \n",
      "  inflating: chunk_18.csv            \n",
      "  inflating: chunk_19.csv            \n",
      "  inflating: chunk_2.csv             \n",
      "  inflating: chunk_20.csv            \n",
      "  inflating: chunk_21.csv            \n",
      "  inflating: chunk_22.csv            \n",
      "  inflating: chunk_23.csv            \n",
      "  inflating: chunk_24.csv            \n",
      "  inflating: chunk_25.csv            \n",
      "  inflating: chunk_26.csv            \n",
      "  inflating: chunk_27.csv            \n",
      "  inflating: chunk_28.csv            \n",
      "  inflating: chunk_29.csv            \n",
      "  inflating: chunk_3.csv             \n",
      "  inflating: chunk_30.csv            \n",
      "  inflating: chunk_31.csv            \n",
      "  inflating: chunk_32.csv            \n",
      "  inflating: chunk_33.csv            \n",
      "  inflating: chunk_34.csv            \n",
      "  inflating: chunk_35.csv            \n",
      "  inflating: chunk_36.csv            \n",
      "  inflating: chunk_37.csv            \n",
      "  inflating: chunk_38.csv            \n",
      "  inflating: chunk_39.csv            \n",
      "  inflating: chunk_4.csv             \n",
      "  inflating: chunk_40.csv            \n",
      "  inflating: chunk_41.csv            \n",
      "  inflating: chunk_5.csv             \n",
      "  inflating: chunk_6.csv             \n",
      "  inflating: chunk_7.csv             \n",
      "  inflating: chunk_8.csv             \n",
      "  inflating: chunk_9.csv             \n",
      "  inflating: dune_token_info.csv     \n",
      "  inflating: dune_token_info_v2.csv  \n",
      "  inflating: test_unlabeled.csv      \n",
      "  inflating: token_info_onchain_divers.csv  \n",
      "  inflating: token_info_onchain_divers_v2.csv  \n",
      "  inflating: train.csv               \n"
     ]
    }
   ],
   "source": [
    "!cd data; mkdir pump-fun-graduation-february-2025; mv pump-fun-graduation-february-2025.zip pump-fun-graduation-february-2025/; cd pump-fun-graduation-february-2025; unzip *.zip"
   ]
  },
  {
   "cell_type": "code",
   "execution_count": 13,
   "id": "e21ebeb0-17d5-469f-b7d0-23619398b4af",
   "metadata": {},
   "outputs": [
    {
     "name": "stdout",
     "output_type": "stream",
     "text": [
      "Archive:  pump-fun-api-solana-tokens-info.zip\n",
      "  inflating: pump_fun_api_info.parquet  \n"
     ]
    }
   ],
   "source": [
    "!cd data; mkdir pump-fun-api-solana-tokens-info; mv pump-fun-api-solana-tokens-info.zip pump-fun-api-solana-tokens-info/; cd pump-fun-api-solana-tokens-info; unzip *.zip"
   ]
  },
  {
   "cell_type": "code",
   "execution_count": 14,
   "id": "72183e7b-1ba4-44e3-b7fb-c1717a53a633",
   "metadata": {},
   "outputs": [
    {
     "name": "stdout",
     "output_type": "stream",
     "text": [
      "Archive:  solana-skill-sprint-memcoin-graduation.zip\n",
      "  inflating: sample_submission.csv   \n",
      "  inflating: test_unlabeled.csv      \n",
      "  inflating: train.csv               \n"
     ]
    }
   ],
   "source": [
    "!cd data; mkdir solana-skill-sprint-memcoin-graduation; mv solana-skill-sprint-memcoin-graduation.zip solana-skill-sprint-memcoin-graduation/; cd solana-skill-sprint-memcoin-graduation; unzip *.zip"
   ]
  },
  {
   "cell_type": "markdown",
   "id": "3a4b8624-d622-447f-9e5c-5018d5e87ebd",
   "metadata": {},
   "source": [
    "## Prepare a new shorter dataset to check if this data affect earlier predictions"
   ]
  },
  {
   "cell_type": "markdown",
   "id": "e5432605-7552-4224-8690-819e62ae857d",
   "metadata": {},
   "source": [
    "### Let's delete last ~10 chunks of transactions data (roughly 50% of the data)"
   ]
  },
  {
   "cell_type": "code",
   "execution_count": 2,
   "id": "307818b2-5488-4055-a984-17dc03d72465",
   "metadata": {},
   "outputs": [],
   "source": [
    "DATA_DIR = 'data/'"
   ]
  },
  {
   "cell_type": "code",
   "execution_count": 3,
   "id": "d4ade315-0214-4739-a73a-f87b726ec8c8",
   "metadata": {},
   "outputs": [],
   "source": [
    "import os\n",
    "data_filename = os.path.join(DATA_DIR, \"pump-fun-graduation-february-2025\")\n",
    "shorter_filename = os.path.join(DATA_DIR, \"pump-fun-graduation-february-2025-shorter\")"
   ]
  },
  {
   "cell_type": "code",
   "execution_count": 4,
   "id": "8f48f671-6481-4ec6-a822-2a1a6589510b",
   "metadata": {},
   "outputs": [],
   "source": [
    "!cp -r {data_filename} {shorter_filename}"
   ]
  },
  {
   "cell_type": "code",
   "execution_count": 5,
   "id": "f8c992ce-ec6f-44a1-ac06-4eb1c5e8fb1f",
   "metadata": {},
   "outputs": [
    {
     "name": "stdout",
     "output_type": "stream",
     "text": [
      "chunk_1.csv   chunk_20.csv  chunk_31.csv  chunk_5.csv\n",
      "chunk_10.csv  chunk_21.csv  chunk_32.csv  chunk_6.csv\n",
      "chunk_11.csv  chunk_22.csv  chunk_33.csv  chunk_7.csv\n",
      "chunk_12.csv  chunk_23.csv  chunk_34.csv  chunk_8.csv\n",
      "chunk_13.csv  chunk_24.csv  chunk_35.csv  chunk_9.csv\n",
      "chunk_14.csv  chunk_25.csv  chunk_36.csv  dune_token_info.csv\n",
      "chunk_15.csv  chunk_26.csv  chunk_37.csv  dune_token_info_v2.csv\n",
      "chunk_16.csv  chunk_27.csv  chunk_38.csv  pump-fun-graduation-february-2025.zip\n",
      "chunk_17.csv  chunk_28.csv  chunk_39.csv  test_unlabeled.csv\n",
      "chunk_18.csv  chunk_29.csv  chunk_4.csv   token_info_onchain_divers.csv\n",
      "chunk_19.csv  chunk_3.csv   chunk_40.csv  token_info_onchain_divers_v2.csv\n",
      "chunk_2.csv   chunk_30.csv  chunk_41.csv  train.csv\n"
     ]
    }
   ],
   "source": [
    "!ls {shorter_filename}"
   ]
  },
  {
   "cell_type": "code",
   "execution_count": 6,
   "id": "9d74f50a-2063-4107-884d-91172c847603",
   "metadata": {},
   "outputs": [
    {
     "name": "stdout",
     "output_type": "stream",
     "text": [
      "data/pump-fun-graduation-february-2025-shorter/chunk_30.csv\n",
      "data/pump-fun-graduation-february-2025-shorter/chunk_31.csv\n",
      "data/pump-fun-graduation-february-2025-shorter/chunk_32.csv\n",
      "data/pump-fun-graduation-february-2025-shorter/chunk_33.csv\n",
      "data/pump-fun-graduation-february-2025-shorter/chunk_34.csv\n",
      "data/pump-fun-graduation-february-2025-shorter/chunk_35.csv\n",
      "data/pump-fun-graduation-february-2025-shorter/chunk_36.csv\n",
      "data/pump-fun-graduation-february-2025-shorter/chunk_37.csv\n",
      "data/pump-fun-graduation-february-2025-shorter/chunk_38.csv\n",
      "data/pump-fun-graduation-february-2025-shorter/chunk_39.csv\n",
      "data/pump-fun-graduation-february-2025-shorter/chunk_40.csv\n",
      "data/pump-fun-graduation-february-2025-shorter/chunk_41.csv\n"
     ]
    }
   ],
   "source": [
    "!ls {shorter_filename}/chunk_4?.csv {shorter_filename}/chunk_3?.csv"
   ]
  },
  {
   "cell_type": "code",
   "execution_count": 7,
   "id": "0a9aba4b-dd1f-4fcc-9545-acd0ec7929b5",
   "metadata": {},
   "outputs": [],
   "source": [
    "!rm {shorter_filename}/chunk_4?.csv {shorter_filename}/chunk_3?.csv"
   ]
  },
  {
   "cell_type": "code",
   "execution_count": 8,
   "id": "a08235b2-066b-409c-9f1b-f4271f2be4ed",
   "metadata": {},
   "outputs": [
    {
     "name": "stdout",
     "output_type": "stream",
     "text": [
      "data/pump-fun-graduation-february-2025-shorter/chunk_1.csv\n",
      "data/pump-fun-graduation-february-2025-shorter/chunk_10.csv\n",
      "data/pump-fun-graduation-february-2025-shorter/chunk_11.csv\n",
      "data/pump-fun-graduation-february-2025-shorter/chunk_12.csv\n",
      "data/pump-fun-graduation-february-2025-shorter/chunk_13.csv\n",
      "data/pump-fun-graduation-february-2025-shorter/chunk_14.csv\n",
      "data/pump-fun-graduation-february-2025-shorter/chunk_15.csv\n",
      "data/pump-fun-graduation-february-2025-shorter/chunk_16.csv\n",
      "data/pump-fun-graduation-february-2025-shorter/chunk_17.csv\n",
      "data/pump-fun-graduation-february-2025-shorter/chunk_18.csv\n",
      "data/pump-fun-graduation-february-2025-shorter/chunk_19.csv\n",
      "data/pump-fun-graduation-february-2025-shorter/chunk_2.csv\n",
      "data/pump-fun-graduation-february-2025-shorter/chunk_20.csv\n",
      "data/pump-fun-graduation-february-2025-shorter/chunk_21.csv\n",
      "data/pump-fun-graduation-february-2025-shorter/chunk_22.csv\n",
      "data/pump-fun-graduation-february-2025-shorter/chunk_23.csv\n",
      "data/pump-fun-graduation-february-2025-shorter/chunk_24.csv\n",
      "data/pump-fun-graduation-february-2025-shorter/chunk_25.csv\n",
      "data/pump-fun-graduation-february-2025-shorter/chunk_26.csv\n",
      "data/pump-fun-graduation-february-2025-shorter/chunk_27.csv\n",
      "data/pump-fun-graduation-february-2025-shorter/chunk_28.csv\n",
      "data/pump-fun-graduation-february-2025-shorter/chunk_29.csv\n",
      "data/pump-fun-graduation-february-2025-shorter/chunk_3.csv\n",
      "data/pump-fun-graduation-february-2025-shorter/chunk_4.csv\n",
      "data/pump-fun-graduation-february-2025-shorter/chunk_5.csv\n",
      "data/pump-fun-graduation-february-2025-shorter/chunk_6.csv\n",
      "data/pump-fun-graduation-february-2025-shorter/chunk_7.csv\n",
      "data/pump-fun-graduation-february-2025-shorter/chunk_8.csv\n",
      "data/pump-fun-graduation-february-2025-shorter/chunk_9.csv\n"
     ]
    }
   ],
   "source": [
    "!ls {shorter_filename}/chunk_*.csv "
   ]
  },
  {
   "cell_type": "code",
   "execution_count": 9,
   "id": "16607f7c-54fc-4882-9fa4-be6b39aaf080",
   "metadata": {},
   "outputs": [],
   "source": [
    "import pandas as pd\n",
    "last_chunk = pd.read_csv(os.path.join(shorter_filename, 'chunk_29.csv'))"
   ]
  },
  {
   "cell_type": "code",
   "execution_count": 10,
   "id": "0f91206c-2f90-42be-8f95-dfc41cc9d87f",
   "metadata": {},
   "outputs": [
    {
     "data": {
      "text/plain": [
       "321910035"
      ]
     },
     "execution_count": 10,
     "metadata": {},
     "output_type": "execute_result"
    }
   ],
   "source": [
    "last_slot = int(last_chunk.slot.max())\n",
    "last_slot"
   ]
  },
  {
   "cell_type": "markdown",
   "id": "2dfe326b-7530-45ac-93ca-d68e00523dae",
   "metadata": {},
   "source": [
    "### Now let's filter rest of the data accordingly"
   ]
  },
  {
   "cell_type": "code",
   "execution_count": 11,
   "id": "530afcf9-7bc4-4e46-aedb-ffb2b15570d7",
   "metadata": {},
   "outputs": [
    {
     "name": "stdout",
     "output_type": "stream",
     "text": [
      "chunk_1.csv   chunk_18.csv  chunk_26.csv  chunk_8.csv\n",
      "chunk_10.csv  chunk_19.csv  chunk_27.csv  chunk_9.csv\n",
      "chunk_11.csv  chunk_2.csv   chunk_28.csv  dune_token_info.csv\n",
      "chunk_12.csv  chunk_20.csv  chunk_29.csv  dune_token_info_v2.csv\n",
      "chunk_13.csv  chunk_21.csv  chunk_3.csv   pump-fun-graduation-february-2025.zip\n",
      "chunk_14.csv  chunk_22.csv  chunk_4.csv   test_unlabeled.csv\n",
      "chunk_15.csv  chunk_23.csv  chunk_5.csv   token_info_onchain_divers.csv\n",
      "chunk_16.csv  chunk_24.csv  chunk_6.csv   token_info_onchain_divers_v2.csv\n",
      "chunk_17.csv  chunk_25.csv  chunk_7.csv   train.csv\n"
     ]
    }
   ],
   "source": [
    "!ls {shorter_filename}"
   ]
  },
  {
   "cell_type": "code",
   "execution_count": 12,
   "id": "286abc0d-a71d-4eae-9481-9a116fa5c376",
   "metadata": {},
   "outputs": [],
   "source": [
    "token_info_v1 = pd.read_csv(os.path.join(shorter_filename, 'dune_token_info.csv'))"
   ]
  },
  {
   "cell_type": "code",
   "execution_count": 13,
   "id": "85e351a9-e6b1-4d82-bef9-59b976656079",
   "metadata": {},
   "outputs": [],
   "source": [
    "token_info_v2 = pd.read_csv(os.path.join(shorter_filename, 'dune_token_info_v2.csv'))"
   ]
  },
  {
   "cell_type": "code",
   "execution_count": 14,
   "id": "10ef45e1-fc3b-45be-a60d-b976cdeb06f2",
   "metadata": {},
   "outputs": [],
   "source": [
    "test = pd.read_csv(os.path.join(shorter_filename, 'test_unlabeled.csv'))"
   ]
  },
  {
   "cell_type": "code",
   "execution_count": 15,
   "id": "07b59ee5-34bf-4b35-aa53-9bd990ee15d4",
   "metadata": {},
   "outputs": [],
   "source": [
    "train = pd.read_csv(os.path.join(shorter_filename, 'train.csv'))"
   ]
  },
  {
   "cell_type": "code",
   "execution_count": 16,
   "id": "d1ce02e3-a0fe-4c0a-b798-0f72201e57e4",
   "metadata": {},
   "outputs": [
    {
     "name": "stderr",
     "output_type": "stream",
     "text": [
      "/tmp/ipykernel_18342/874439643.py:1: DtypeWarning: Columns (1,2) have mixed types. Specify dtype option on import or set low_memory=False.\n",
      "  onchain = pd.read_csv(os.path.join(shorter_filename, 'token_info_onchain_divers.csv'))\n"
     ]
    }
   ],
   "source": [
    "onchain = pd.read_csv(os.path.join(shorter_filename, 'token_info_onchain_divers.csv'))"
   ]
  },
  {
   "cell_type": "code",
   "execution_count": 17,
   "id": "e32e80c0-570f-4607-9e14-3962c12b54cb",
   "metadata": {},
   "outputs": [],
   "source": [
    "onchain_v2 = pd.read_csv(os.path.join(shorter_filename, 'token_info_onchain_divers_v2.csv'))"
   ]
  },
  {
   "cell_type": "code",
   "execution_count": 18,
   "id": "f50a673f-ea96-41d2-8bfb-3b8e0d743d5a",
   "metadata": {},
   "outputs": [
    {
     "data": {
      "text/plain": [
       "slot_min\n",
       "True    1.0\n",
       "Name: proportion, dtype: float64"
      ]
     },
     "execution_count": 18,
     "metadata": {},
     "output_type": "execute_result"
    }
   ],
   "source": [
    "(train.slot_min <= (last_slot-100)).value_counts(normalize=True)"
   ]
  },
  {
   "cell_type": "code",
   "execution_count": 19,
   "id": "67502057-e184-4375-9073-0b875f924291",
   "metadata": {},
   "outputs": [
    {
     "data": {
      "text/plain": [
       "slot_min\n",
       "False    0.626554\n",
       "True     0.373446\n",
       "Name: proportion, dtype: float64"
      ]
     },
     "execution_count": 19,
     "metadata": {},
     "output_type": "execute_result"
    }
   ],
   "source": [
    "(test.slot_min <= (last_slot-100)).value_counts(normalize=True)"
   ]
  },
  {
   "cell_type": "markdown",
   "id": "013788cd-8111-4f41-bc69-f3153f1a9984",
   "metadata": {},
   "source": [
    "### Let's filter all the data removing "
   ]
  },
  {
   "cell_type": "code",
   "execution_count": 20,
   "id": "7aa90d07-ebcd-4ff6-9f1a-cb0f95298905",
   "metadata": {},
   "outputs": [],
   "source": [
    "test_filtered = test[test.slot_min <= (last_slot-100)]"
   ]
  },
  {
   "cell_type": "code",
   "execution_count": 25,
   "id": "d15b17d4-df96-408b-8ee2-c0260db9b619",
   "metadata": {},
   "outputs": [],
   "source": [
    "import csv\n",
    "\n",
    "test_filtered.drop(columns=[\"Unnamed: 0\"]).to_csv(os.path.join(shorter_filename, 'test_unlabeled.csv'), quoting=csv.QUOTE_NONNUMERIC)"
   ]
  },
  {
   "cell_type": "code",
   "execution_count": 26,
   "id": "066bf544-8ff3-406c-aa24-a4eb59df14c7",
   "metadata": {},
   "outputs": [
    {
     "data": {
      "text/plain": [
       "156533"
      ]
     },
     "execution_count": 26,
     "metadata": {},
     "output_type": "execute_result"
    }
   ],
   "source": [
    "valid_test_mints = test[(test.slot_min <= last_slot) & test_filtered.is_valid].mint\n",
    "len(valid_test_mints)"
   ]
  },
  {
   "cell_type": "code",
   "execution_count": 27,
   "id": "46b49ff3-d109-464c-bf6a-6369b3eabc1c",
   "metadata": {},
   "outputs": [
    {
     "data": {
      "text/plain": [
       "'2025-02-20 12:56:08.000 UTC'"
      ]
     },
     "execution_count": 27,
     "metadata": {},
     "output_type": "execute_result"
    }
   ],
   "source": [
    "last_timestamp = token_info_v1[token_info_v1.token_mint_address.isin(valid_test_mints)].created_at.sort_values().max()\n",
    "last_timestamp"
   ]
  },
  {
   "cell_type": "code",
   "execution_count": 28,
   "id": "31ad37f0-3df8-4139-b1a0-991786bb02f4",
   "metadata": {},
   "outputs": [],
   "source": [
    "token_info_v1[token_info_v1.created_at <= last_timestamp].to_csv(os.path.join(shorter_filename, 'dune_token_info.csv'), index=False, quoting=csv.QUOTE_NONNUMERIC)"
   ]
  },
  {
   "cell_type": "code",
   "execution_count": 29,
   "id": "a9d9ce71-6d5b-47ef-926b-a54057a4e41c",
   "metadata": {},
   "outputs": [],
   "source": [
    "last_timestamp = token_info_v2[token_info_v2.token_mint_address.isin(valid_test_mints)].created_at.sort_values().max()"
   ]
  },
  {
   "cell_type": "code",
   "execution_count": 30,
   "id": "ca0cb0b7-52d2-4036-9eac-47d9b4804ab9",
   "metadata": {},
   "outputs": [],
   "source": [
    "token_info_v2[token_info_v2.created_at <= last_timestamp].to_csv(os.path.join(shorter_filename, 'dune_token_info_v2.csv'), index=False, quoting=csv.QUOTE_NONNUMERIC)"
   ]
  },
  {
   "cell_type": "code",
   "execution_count": 31,
   "id": "0c8d710e-80f5-43cf-880f-e8f4447481b0",
   "metadata": {},
   "outputs": [
    {
     "name": "stdout",
     "output_type": "stream",
     "text": [
      "chunk_1.csv   chunk_18.csv  chunk_26.csv  chunk_8.csv\n",
      "chunk_10.csv  chunk_19.csv  chunk_27.csv  chunk_9.csv\n",
      "chunk_11.csv  chunk_2.csv   chunk_28.csv  dune_token_info.csv\n",
      "chunk_12.csv  chunk_20.csv  chunk_29.csv  dune_token_info_v2.csv\n",
      "chunk_13.csv  chunk_21.csv  chunk_3.csv   pump-fun-graduation-february-2025.zip\n",
      "chunk_14.csv  chunk_22.csv  chunk_4.csv   test_unlabeled.csv\n",
      "chunk_15.csv  chunk_23.csv  chunk_5.csv   token_info_onchain_divers.csv\n",
      "chunk_16.csv  chunk_24.csv  chunk_6.csv   token_info_onchain_divers_v2.csv\n",
      "chunk_17.csv  chunk_25.csv  chunk_7.csv   train.csv\n"
     ]
    }
   ],
   "source": [
    "!ls {shorter_filename}"
   ]
  },
  {
   "cell_type": "code",
   "execution_count": 32,
   "id": "efce14f8-ac4a-4df3-9793-fa9ed86aab3d",
   "metadata": {},
   "outputs": [],
   "source": [
    "slot_num = pd.to_numeric(onchain['slot'], errors='coerce')\n",
    "slot_num = slot_num.fillna(0).astype(int)\n",
    "onchain[slot_num <= last_slot].to_csv(os.path.join(shorter_filename, 'token_info_onchain_divers.csv'), index=False, quoting=csv.QUOTE_NONNUMERIC)"
   ]
  },
  {
   "cell_type": "code",
   "execution_count": 33,
   "id": "86b28363-8124-4291-b2a4-e0734e8fce9c",
   "metadata": {},
   "outputs": [],
   "source": [
    "slot_num = pd.to_numeric(onchain_v2['slot'], errors='coerce')\n",
    "slot_num = slot_num.fillna(0).astype(int)\n",
    "onchain_v2[slot_num <= last_slot].to_csv(os.path.join(shorter_filename, 'token_info_onchain_divers_v2.csv'), index=False, quoting=csv.QUOTE_NONNUMERIC)"
   ]
  },
  {
   "cell_type": "code",
   "execution_count": null,
   "id": "3202e241-409d-4973-8207-6cbf9e5cf877",
   "metadata": {},
   "outputs": [],
   "source": []
  },
  {
   "cell_type": "code",
   "execution_count": 34,
   "id": "ca0cb356-df2c-4b45-af75-9195aea464eb",
   "metadata": {},
   "outputs": [],
   "source": [
    "pump_fun_api = pd.read_parquet('data/pump-fun-api-solana-tokens-info/pump_fun_api_info.parquet')"
   ]
  },
  {
   "cell_type": "code",
   "execution_count": 35,
   "id": "d4f1f0ed-067a-4770-8e53-00f3a327b91e",
   "metadata": {},
   "outputs": [
    {
     "data": {
      "text/plain": [
       "1740056215355"
      ]
     },
     "execution_count": 35,
     "metadata": {},
     "output_type": "execute_result"
    }
   ],
   "source": [
    "last_timestamp = int(pump_fun_api[pump_fun_api.mint.isin(test[test.slot_min <= last_slot].mint)].created_timestamp.max())\n",
    "last_timestamp"
   ]
  },
  {
   "cell_type": "code",
   "execution_count": 36,
   "id": "70c73eea-27db-4cb3-bcf7-ab72d85f7aa4",
   "metadata": {},
   "outputs": [
    {
     "data": {
      "text/plain": [
       "((1036791, 17), (1304640, 17))"
      ]
     },
     "execution_count": 36,
     "metadata": {},
     "output_type": "execute_result"
    }
   ],
   "source": [
    "pump_fun_api[pump_fun_api.created_timestamp <= last_timestamp].shape, pump_fun_api.shape"
   ]
  },
  {
   "cell_type": "code",
   "execution_count": null,
   "id": "67807367-9e0e-45b4-9794-ed73d593e737",
   "metadata": {},
   "outputs": [],
   "source": [
    "!mkdir data/pump-fun-api-solana-tokens-info-shorter"
   ]
  },
  {
   "cell_type": "code",
   "execution_count": 38,
   "id": "b640877a-fe1b-4525-965d-2845cbc2e2ea",
   "metadata": {},
   "outputs": [],
   "source": [
    "pump_fun_api[pump_fun_api.created_timestamp <= last_timestamp].to_parquet('data/pump-fun-api-solana-tokens-info-shorter/pump_fun_api_info.parquet')"
   ]
  },
  {
   "cell_type": "code",
   "execution_count": null,
   "id": "5ed6bac1-f7fa-488c-b0ef-ee0c2ad4e0c8",
   "metadata": {},
   "outputs": [],
   "source": []
  }
 ],
 "metadata": {
  "kernelspec": {
   "display_name": "Python3 (ipykernel)",
   "language": "python",
   "name": "python3"
  },
  "language_info": {
   "codemirror_mode": {
    "name": "ipython",
    "version": 3
   },
   "file_extension": ".py",
   "mimetype": "text/x-python",
   "name": "python",
   "nbconvert_exporter": "python",
   "pygments_lexer": "ipython3",
   "version": "3.10.12"
  }
 },
 "nbformat": 4,
 "nbformat_minor": 5
}
