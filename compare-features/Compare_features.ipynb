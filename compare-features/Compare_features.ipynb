{
 "cells": [
  {
   "cell_type": "code",
   "execution_count": 1,
   "id": "ecaea23a-8b0b-4eb6-bf1b-3453e5d29fb2",
   "metadata": {},
   "outputs": [],
   "source": [
    "import pandas as pd"
   ]
  },
  {
   "cell_type": "code",
   "execution_count": 2,
   "id": "d3a75dd7-775b-4949-a95e-70fbb3f74cd3",
   "metadata": {},
   "outputs": [],
   "source": [
    "full = pd.read_parquet('Host/full_features.parquet')\n",
    "shorter = pd.read_parquet('Host/shorter_features.parquet')"
   ]
  },
  {
   "cell_type": "code",
   "execution_count": 3,
   "id": "414b6c97-a1f0-452d-81de-8fe5689c14c7",
   "metadata": {},
   "outputs": [],
   "source": [
    "assert (full.columns == shorter.columns).all()"
   ]
  },
  {
   "cell_type": "code",
   "execution_count": 4,
   "id": "89d804d9-d25d-40c9-b8b6-094c4a18291d",
   "metadata": {},
   "outputs": [],
   "source": [
    "merged_features = full.merge(shorter, on='mint', how='inner', suffixes=['', '_s'])"
   ]
  },
  {
   "cell_type": "code",
   "execution_count": 12,
   "id": "6f5ec942-7242-4d29-af81-f5edfde7176d",
   "metadata": {},
   "outputs": [
    {
     "name": "stdout",
     "output_type": "stream",
     "text": [
      "31.41% different values for name_duplicate_count\n",
      "28.30% different values for creator_duplicate_count\n",
      "\n",
      "Clean features:\n",
      "quote_coin_amount_sum, quote_coin_amount_min, quote_coin_amount_max, quote_coin_amount_count, quote_coin_amount_last, quote_coin_amount_first, quote_coin_amount_median, quote_coin_amount_std, virtual_sol_balance_after_sum, virtual_sol_balance_after_min, virtual_sol_balance_after_max, virtual_sol_balance_after_last, virtual_sol_balance_after_first, virtual_sol_balance_after_median, virtual_sol_balance_after_std, base_coin_amount_sum, base_coin_amount_min, base_coin_amount_max, base_coin_amount_last, base_coin_amount_first, base_coin_amount_median, base_coin_amount_std, base_coin_amount_mean, provided_gas_fee_sum, provided_gas_fee_min, provided_gas_fee_max, provided_gas_fee_last, provided_gas_fee_first, provided_gas_fee_median, provided_gas_fee_std, provided_gas_fee_mean, provided_gas_limit_sum, provided_gas_limit_min, provided_gas_limit_max, provided_gas_limit_last, provided_gas_limit_first, provided_gas_limit_median, provided_gas_limit_std, provided_gas_limit_mean, fee_sum, fee_min, fee_max, fee_last, fee_first, fee_median, fee_std, fee_mean, consumed_gas_sum, consumed_gas_min, consumed_gas_max, consumed_gas_last, consumed_gas_first, consumed_gas_median, consumed_gas_std, consumed_gas_mean, direction_last, slot_max_offset, slot_mean_offset, slot_median_offset, tx_idx, creator, bundle_size, gas_used, amount_of_instructions, amount_of_lookup_reads, amount_of_lookup_writes, bundle_structure, bundled_buys, bundled_buys_count, dev_balance, creation_ix_index, direct_pf_invocation, version, name_train_duplicate_count, creator_train_duplicate_count\n"
     ]
    }
   ],
   "source": [
    "clean_features = []\n",
    "for feature in full.columns:\n",
    "    feature_changes_count = (merged_features[feature].fillna(-1000) != merged_features[f'{feature}_s'].fillna(-1000)).sum()\n",
    "    if feature_changes_count > 0:\n",
    "        print(f'{feature_changes_count/merged_features.shape[0]:.2%} different values for {feature}')\n",
    "    else:\n",
    "        clean_features.append(feature)\n",
    "\n",
    "print(\"\\nClean features:\")\n",
    "print(', '.join(clean_features))"
   ]
  },
  {
   "cell_type": "markdown",
   "id": "74e87571-fc6d-426b-8451-ab62df2dd442",
   "metadata": {},
   "source": [
    "One set of features has leak: `name_duplicate_count` and `creator_duplicate_count` \n",
    "\n",
    "The second set `name_train_duplicate_count` and `creator_train_duplicate_count` has no leak of that kind"
   ]
  },
  {
   "cell_type": "code",
   "execution_count": null,
   "id": "1e9fe19e-11d5-4cd3-960d-bbb4351500f6",
   "metadata": {},
   "outputs": [],
   "source": []
  }
 ],
 "metadata": {
  "kernelspec": {
   "display_name": "Python3 (ipykernel)",
   "language": "python",
   "name": "python3"
  },
  "language_info": {
   "codemirror_mode": {
    "name": "ipython",
    "version": 3
   },
   "file_extension": ".py",
   "mimetype": "text/x-python",
   "name": "python",
   "nbconvert_exporter": "python",
   "pygments_lexer": "ipython3",
   "version": "3.10.12"
  }
 },
 "nbformat": 4,
 "nbformat_minor": 5
}
